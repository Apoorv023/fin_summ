{
  "nbformat": 4,
  "nbformat_minor": 0,
  "metadata": {
    "colab": {
      "provenance": [],
      "gpuType": "T4",
      "authorship_tag": "ABX9TyPgE62WYOHTUIufMLZlSDFT"
    },
    "kernelspec": {
      "name": "python3",
      "display_name": "Python 3"
    },
    "language_info": {
      "name": "python"
    },
    "accelerator": "GPU"
  },
  "cells": [
    {
      "cell_type": "markdown",
      "source": [
        "# About this notebook\n",
        "\n",
        "**Requirements:**\n",
        "1. This notebook requires a Cohere API Key. Save it as 'COHERE_API_KEY' in colab secrets or directly input in code section: \"Create empty vector for adding documents\".\n",
        "2. All the required versions of libraries used in this notebook are mentioned in the first code section.\n",
        "\n",
        "**Working of this notebook:**\n",
        "1. Input for notebook is a dictionary containing stock tickers and company name in a dictionary called tickers. Code section: \"MAIN\".\n",
        "2. This notebook downloads 10-K forms of companies using tickers dictionary and extracts accession numbers from downloaded file directories of each company. Code section: \"Get accession numbers and download excel files\".\n",
        "4. Using ticker name, CIK is also fetched for each ticker using code section: \"Get CIK from stock ticker\".\n",
        "5. Using CIK and accession numbers, excel files are downloaded.\n",
        "6. These files are then converted to dataframe and processed and converted to langchain documents.\n",
        "7. This data is then used to query Cohere."
      ],
      "metadata": {
        "id": "BQQNGjdPBzI8"
      }
    },
    {
      "cell_type": "code",
      "source": [
        "# @title Install required libraries along with their correct version at the time of project creation\n",
        "\n",
        "!pip install -q sec_edgar_downloader==5.0.3 faiss-cpu==1.11.0.post1 langchain==0.3.27 langchain-community==0.3.27\n",
        "!pip install -q langchain-cohere==0.4.4 cohere==5.15.0\n",
        "\n",
        "# Below mentioned libraries are already provided in colab\n",
        "# !pip install -q requests==2.32.3\n",
        "# !pip install -q numpy==2.0.2\n",
        "# !pip install -q pandas==2.2.2\n",
        "# !pip install -q google.colab==1.0.0\n",
        "# !pip install -q IPython==7.34.0\n"
      ],
      "metadata": {
        "colab": {
          "base_uri": "https://localhost:8080/"
        },
        "id": "POVniYqW-YTM",
        "outputId": "7dbb3255-64c8-404e-b266-a266c8f43d15",
        "collapsed": true,
        "cellView": "form"
      },
      "execution_count": 1,
      "outputs": [
        {
          "output_type": "stream",
          "name": "stdout",
          "text": [
            "\u001b[2K   \u001b[90m━━━━━━━━━━━━━━━━━━━━━━━━━━━━━━━━━━━━━━━━\u001b[0m \u001b[32m31.3/31.3 MB\u001b[0m \u001b[31m22.1 MB/s\u001b[0m eta \u001b[36m0:00:00\u001b[0m\n",
            "\u001b[2K   \u001b[90m━━━━━━━━━━━━━━━━━━━━━━━━━━━━━━━━━━━━━━━━\u001b[0m \u001b[32m2.5/2.5 MB\u001b[0m \u001b[31m92.9 MB/s\u001b[0m eta \u001b[36m0:00:00\u001b[0m\n",
            "\u001b[2K   \u001b[90m━━━━━━━━━━━━━━━━━━━━━━━━━━━━━━━━━━━━━━━━\u001b[0m \u001b[32m45.2/45.2 kB\u001b[0m \u001b[31m4.5 MB/s\u001b[0m eta \u001b[36m0:00:00\u001b[0m\n",
            "\u001b[2K   \u001b[90m━━━━━━━━━━━━━━━━━━━━━━━━━━━━━━━━━━━━━━━━\u001b[0m \u001b[32m50.9/50.9 kB\u001b[0m \u001b[31m4.8 MB/s\u001b[0m eta \u001b[36m0:00:00\u001b[0m\n",
            "\u001b[2K   \u001b[90m━━━━━━━━━━━━━━━━━━━━━━━━━━━━━━━━━━━━━━━━\u001b[0m \u001b[32m42.3/42.3 kB\u001b[0m \u001b[31m3.7 MB/s\u001b[0m eta \u001b[36m0:00:00\u001b[0m\n",
            "\u001b[2K   \u001b[90m━━━━━━━━━━━━━━━━━━━━━━━━━━━━━━━━━━━━━━━━\u001b[0m \u001b[32m259.5/259.5 kB\u001b[0m \u001b[31m24.3 MB/s\u001b[0m eta \u001b[36m0:00:00\u001b[0m\n",
            "\u001b[2K   \u001b[90m━━━━━━━━━━━━━━━━━━━━━━━━━━━━━━━━━━━━━━━━\u001b[0m \u001b[32m3.3/3.3 MB\u001b[0m \u001b[31m104.2 MB/s\u001b[0m eta \u001b[36m0:00:00\u001b[0m\n",
            "\u001b[?25h"
          ]
        }
      ]
    },
    {
      "cell_type": "code",
      "source": [
        "# @title Imports\n",
        "\n",
        "import os\n",
        "import shutil\n",
        "import requests\n",
        "import numpy as np\n",
        "import pandas as pd\n",
        "from google.colab import userdata\n",
        "from IPython.display import display\n",
        "from sec_edgar_downloader import Downloader\n",
        "\n",
        "# LangChain & LangChain Community\n",
        "import faiss\n",
        "from langchain.chains import RetrievalQA\n",
        "from langchain_core.documents import Document\n",
        "from langchain_community.vectorstores import FAISS\n",
        "\n",
        "# Cohere integrations\n",
        "from langchain_cohere import ChatCohere\n",
        "from langchain_cohere import CohereEmbeddings"
      ],
      "metadata": {
        "cellView": "form",
        "id": "qJmLmOZdIQX2"
      },
      "execution_count": 2,
      "outputs": []
    },
    {
      "cell_type": "code",
      "source": [
        "# @title Delete all files in a directory: delete_files_in_folder(folder_path)\n",
        "\n",
        "def delete_files_in_folder(folder_path):\n",
        "  for item in os.listdir(sec_folder):\n",
        "      item_path = os.path.join(sec_folder, item)\n",
        "      if os.path.isdir(item_path):\n",
        "          shutil.rmtree(item_path)"
      ],
      "metadata": {
        "cellView": "form",
        "id": "U7z2xbfRm_Ny"
      },
      "execution_count": 3,
      "outputs": []
    },
    {
      "cell_type": "code",
      "source": [
        "# @title Download SEC html/txt files -> download_sec_files(ticker)\n",
        "\n",
        "# Header details for downloading data\n",
        "USER_AGENT_COMPANY_NAME = \"Company\"\n",
        "USER_AGENT_EMAIL = \"company.mail@company.com\"\n",
        "\n",
        "# Set up download folder and downloader for downloading excel files\n",
        "sec_folder = \"/content/sec_filings/\"\n",
        "sec_downloader = Downloader(USER_AGENT_COMPANY_NAME, USER_AGENT_EMAIL, download_folder = sec_folder)\n",
        "\n",
        "os.makedirs(sec_folder, exist_ok=True)\n",
        "\n",
        "def download_sec_files(ticker):\n",
        "    try:\n",
        "        sec_downloader.get(\"10-K\", ticker, limit=25)  # last 25 filings (usually 1 per year)\n",
        "        return True\n",
        "    except Exception as e:\n",
        "        return False"
      ],
      "metadata": {
        "cellView": "form",
        "id": "f0OJ3yqEnd5w"
      },
      "execution_count": 4,
      "outputs": []
    },
    {
      "cell_type": "code",
      "source": [
        "# @title Get CIK from stock ticker -> get_cik_from_ticker(ticker)\n",
        "\n",
        "def get_cik_from_ticker(ticker):\n",
        "    url = \"https://www.sec.gov/files/company_tickers.json\"\n",
        "    headers = {\"User-Agent\": \"Your Name Contact@example.com\"}  # SEC requires this\n",
        "\n",
        "    response = requests.get(url, headers=headers)\n",
        "    data = response.json()\n",
        "\n",
        "    for entry in data.values():\n",
        "        if entry[\"ticker\"].lower() == ticker.lower():\n",
        "            return str(entry[\"cik_str\"]).zfill(10)  # pad with zeros to make 10 digits\n",
        "\n",
        "    return None\n"
      ],
      "metadata": {
        "cellView": "form",
        "id": "Jaq6byRdgR9V"
      },
      "execution_count": 5,
      "outputs": []
    },
    {
      "cell_type": "code",
      "source": [
        "# @title Get accession numbers and download excel files -> get_acc_nos(folder_path) & download_excel_file(excel_link, excel_file_path)\n",
        "\n",
        "headers = {\n",
        "    'User-Agent': 'microsoft bill.gates@microsoft.com',\n",
        "    'Accept': 'application/vnd.openxmlformats-officedocument.spreadsheetml.sheet'\n",
        "}\n",
        "\n",
        "# Get accession numbers\n",
        "def get_acc_nos(folder_path):\n",
        "    for _, dir, _ in os.walk(folder_path):\n",
        "      if len(dir) > 5:\n",
        "        return tuple(dir)\n",
        "\n",
        "    return None\n",
        "\n",
        "# Download excel file\n",
        "def download_excel_file(excel_link, excel_file_path):\n",
        "    try:\n",
        "        response = requests.get(excel_link, headers=headers)\n",
        "        response.raise_for_status()\n",
        "        with open(excel_file_path, 'wb') as f:\n",
        "            f.write(response.content)\n",
        "        return True\n",
        "    except requests.exceptions.RequestException as e:\n",
        "        return False\n"
      ],
      "metadata": {
        "cellView": "form",
        "id": "dh4EzRXFq5Tm"
      },
      "execution_count": 6,
      "outputs": []
    },
    {
      "cell_type": "code",
      "source": [
        "# @title Convert excel data to dataframe -> excel_to_df(excel_file_path)\n",
        "def excel_to_df(excel_file_path: str):\n",
        "\n",
        "    # Description of sheet names that need to be read from excel files\n",
        "    sheet_name_desc1 = 'consolidated statements of oper'\n",
        "    sheet_name_desc2 = 'consolidated statements of incom'\n",
        "\n",
        "    try:\n",
        "        matched_sheet = ''\n",
        "        excel_content = pd.ExcelFile(excel_file_path)\n",
        "        for sheet_name in excel_content.sheet_names:\n",
        "            if sheet_name_desc1 in sheet_name.lower() or sheet_name_desc2 in sheet_name.lower():\n",
        "              matched_sheet = sheet_name\n",
        "              break\n",
        "        df = pd.read_excel(excel_file_path, sheet_name = matched_sheet, engine = 'openpyxl')\n",
        "\n",
        "    except Exception as e:\n",
        "        df = f'Could not read the excel file {excel_file_path}!'\n",
        "\n",
        "    return df"
      ],
      "metadata": {
        "cellView": "form",
        "id": "o7wZah4xITj2"
      },
      "execution_count": 7,
      "outputs": []
    },
    {
      "cell_type": "code",
      "source": [
        "# @title Correct the values in dataframe according to share and usd multipliers -> process_df_values(df, share_multiplier, usd_multiplier)\n",
        "\n",
        "def process_df_values(df: pd.DataFrame, share_multiplier: int, usd_multiplier: int) -> pd.DataFrame:\n",
        "    pre_string = ''\n",
        "    nan_index, text_index = [], []\n",
        "\n",
        "    # Some common terms to be taken care of when converting dataframe values\n",
        "    common_averages = [\"in share\", \"average share\", \"average common share\"]\n",
        "    usd_terms = [\"in usd\", \"in dollars\", \"income per share\"]\n",
        "\n",
        "    for index, row in df.iterrows():\n",
        "        try:\n",
        "            # Get row description for appropriate value conversion\n",
        "            row_desc = row.loc['Description'].lower()\n",
        "            if row_desc[-1] == \":\":\n",
        "                row_desc = row_desc[:-1]\n",
        "        except:\n",
        "            continue\n",
        "\n",
        "        if row.isnull().all():\n",
        "          pre_string = ''\n",
        "          nan_index.append(index)\n",
        "\n",
        "        elif row.iloc[2:].isnull().all():\n",
        "          if index - 1 in nan_index:\n",
        "            pre_string = pre_string + \" | \" + row_desc\n",
        "          else:\n",
        "            pre_string = row_desc\n",
        "          nan_index.append(index)\n",
        "\n",
        "        else:\n",
        "            try:\n",
        "                # If value can't be converted to float, then skip that row\n",
        "                float(row.iloc[2])\n",
        "\n",
        "                if pre_string:\n",
        "                    df.iloc[index, 0] = pre_string\n",
        "\n",
        "                for col in df.columns[2:]:\n",
        "                    val = row[col]\n",
        "                    if any(common_average in row_desc for common_average in common_averages) or any(common_average in pre_string for common_average in common_averages):\n",
        "                        val = float(val) * share_multiplier\n",
        "                        val = str(val) + \" shares\"\n",
        "                    else:\n",
        "                        if all(usd_term not in row_desc and usd_term not in pre_string for usd_term in usd_terms):\n",
        "                            val = float(val) * usd_multiplier\n",
        "                            if abs(val) >= 1000000000:\n",
        "                                val = str(val/1000000000) + \" billion\"\n",
        "                            elif abs(val) >= 1000000:\n",
        "                                val = str(val/1000000) + \" million\"\n",
        "\n",
        "                        val = \"USD \" + str(val)\n",
        "\n",
        "                    df.at[index, col] = val\n",
        "            except:\n",
        "                text_index.append(index)\n",
        "                continue\n",
        "\n",
        "    # Drop rows that contain text and not numbers\n",
        "    if text_index:\n",
        "      df = df.drop(text_index)\n",
        "\n",
        "    # Drop empty rows\n",
        "    df = df.dropna(subset=df.columns[1:])\n",
        "\n",
        "    return df.reset_index(drop = True)"
      ],
      "metadata": {
        "cellView": "form",
        "id": "lp0uBC6ubYQA"
      },
      "execution_count": 8,
      "outputs": []
    },
    {
      "cell_type": "code",
      "source": [
        "# @title Set column headings and find share and usd multipliers -> process_dataframe(df)\n",
        "\n",
        "def process_dataframe(df: pd.DataFrame) -> pd.DataFrame:\n",
        "\n",
        "    # Identify multipliers from the first row of the sheet\n",
        "    multiplier_identifier = df.columns[0].lower()\n",
        "\n",
        "    share_multiplier = 1\n",
        "    if 'shares in billion' in multiplier_identifier:\n",
        "        share_multiplier = 1000000000\n",
        "    elif 'shares in million' in multiplier_identifier:\n",
        "        share_multiplier = 1000000\n",
        "    elif 'shares in thousand' in multiplier_identifier:\n",
        "        share_multiplier = 1000\n",
        "\n",
        "    usd_multiplier = 1\n",
        "    if '$ in billion' in multiplier_identifier:\n",
        "        usd_multiplier = 1000000000\n",
        "    elif '$ in million' in multiplier_identifier:\n",
        "        usd_multiplier = 1000000\n",
        "    elif '$ in thousand' in multiplier_identifier:\n",
        "        usd_multiplier = 1000\n",
        "\n",
        "    # Rename columns with None heading for proper column renaming\n",
        "    df.columns = [f'new_column_{i}' if col is None else col for i, col in enumerate(df.columns)]\n",
        "\n",
        "    # Replace empty dataframe values with NaN for better processing\n",
        "    df = df.map(lambda x: np.nan if (x == '' or x is None or (isinstance(x, str) and x.strip() == \"\")) else x)\n",
        "\n",
        "    # Delete columns with very less unique values as they do not contain good data\n",
        "    for column in df.columns:\n",
        "        if df[column].nunique() < 5:\n",
        "            df = df.drop(columns=[column])\n",
        "\n",
        "    # Rename columns with their respective years\n",
        "    df = df.rename(columns = {df.columns[0]: \"Description\",\n",
        "                              df.columns[1]: int(df.iloc[0,1][-4:]),\n",
        "                              df.columns[2]: int(df.iloc[0,2][-4:]),\n",
        "                              df.columns[3]: int(df.iloc[0,3][-4:])})\n",
        "\n",
        "    # Remove first row as its not required and add a new column 'Category' to dataframe\n",
        "    df = df[1:]\n",
        "    df.insert(0, 'Category', '')\n",
        "    df = df.reset_index(drop = True)      # To make sure indices are in sync\n",
        "\n",
        "    return process_df_values(df = df, share_multiplier = share_multiplier, usd_multiplier = usd_multiplier)\n"
      ],
      "metadata": {
        "cellView": "form",
        "id": "Xk4M0AjxIVru"
      },
      "execution_count": 9,
      "outputs": []
    },
    {
      "cell_type": "code",
      "source": [
        "# @title Convert dataframe to langchain Documents -> df_to_document(df, company_name)\n",
        "\n",
        "def df_to_document(df:  pd.DataFrame, company_name: str, company_years: list):\n",
        "    documents = []\n",
        "\n",
        "    # Delete all columns with years for which parsing is already done\n",
        "    drop_cols = []\n",
        "    for column in df.columns[2:]:\n",
        "      if int(column) in company_years:\n",
        "        drop_cols.append(column)\n",
        "      else:\n",
        "        company_years.append(int(column))\n",
        "\n",
        "    df = df.drop(columns=drop_cols)\n",
        "\n",
        "    # Convert each dataframe row to text for mebedding\n",
        "    for index, row in df.iterrows():\n",
        "      if row.iloc[0]:\n",
        "        row_desc = f\"For {company_name} {row.iloc[1]} in {row.iloc[0]} category for year\"\n",
        "      else:\n",
        "        row_desc = f\"For {company_name} {row.iloc[1]} for year\"\n",
        "\n",
        "      for column in df.columns[2:]:\n",
        "        metadata = {\"company\": company_name, \"year\": column}\n",
        "        documents.append(Document(page_content = f\"{row_desc} {column} is {row[column]}.\", metadata = metadata))\n",
        "\n",
        "    return [documents, company_years]\n"
      ],
      "metadata": {
        "cellView": "form",
        "id": "NYudzG27f-AN"
      },
      "execution_count": 10,
      "outputs": []
    },
    {
      "cell_type": "code",
      "source": [
        "# @title Create empty vector for adding documents\n",
        "\n",
        "# Embedding and Cohere Configuration\n",
        "cohere_api_key = userdata.get('COHERE_API_KEY')\n",
        "embeddings = CohereEmbeddings(cohere_api_key=cohere_api_key, model=\"embed-english-v3.0\")\n",
        "vectorstore = FAISS.from_documents([Document(page_content=\"dummy\")], embeddings)"
      ],
      "metadata": {
        "cellView": "form",
        "id": "bYPyDCzx80qH"
      },
      "execution_count": 11,
      "outputs": []
    },
    {
      "cell_type": "code",
      "source": [
        "# @title Execute data processing and vector creation -> execute_process(tickers)\n",
        "\n",
        "def execute_process(tickers):\n",
        "  for ticker, company_name in tickers.items():\n",
        "\n",
        "      # Delete any existing file/ folder in the directory\n",
        "      delete_files_in_folder(sec_folder)\n",
        "\n",
        "      # Get CIK from ticker name\n",
        "      cik = get_cik_from_ticker(ticker)\n",
        "\n",
        "      # Download sec files for extracting accession numbers\n",
        "      downloaded = download_sec_files(ticker = ticker)\n",
        "\n",
        "      if cik is None or downloaded is False:\n",
        "          continue\n",
        "\n",
        "      # Get accession numbers from downloaded files\n",
        "      accession_nos = get_acc_nos(sec_folder)\n",
        "\n",
        "      delete_files_in_folder(sec_folder)\n",
        "\n",
        "      # To store langchain Documents and years parsed of the company\n",
        "      docs = []\n",
        "      company_years = []\n",
        "\n",
        "      # Construct excel links from all the extracted data and convert them to langchain documents\n",
        "      for acc_no in accession_nos:\n",
        "          excel_link = f\"https://www.sec.gov/Archives/edgar/data/{cik}/{acc_no.replace('-','')}/Financial_Report.xlsx\"\n",
        "          excel_file_path = f\"{sec_folder}{company_name}_Financial_20{acc_no.split('-')[1]}.xlsx\"\n",
        "\n",
        "          downloaded = download_excel_file(excel_link, excel_file_path)\n",
        "\n",
        "          if downloaded is False:\n",
        "              continue\n",
        "\n",
        "          # Convert excel to dataframe\n",
        "          df = excel_to_df(excel_file_path = excel_file_path)\n",
        "          if not isinstance(df, pd.DataFrame):\n",
        "              continue\n",
        "\n",
        "          df = process_dataframe(df = df)\n",
        "\n",
        "          # print(excel_file_path)\n",
        "          # display(df)\n",
        "          # print(\"\\n\\n\")\n",
        "          doc, company_years = df_to_document(df = df, company_name = company_name, company_years = company_years)\n",
        "          docs.extend(doc)\n",
        "\n",
        "      print(\"Years for which data is downloaded\")\n",
        "      print(f\"{company_name}: {sorted(company_years)}\")\n",
        "      vectorstore.add_documents(docs)"
      ],
      "metadata": {
        "cellView": "form",
        "id": "rDwG3YEa8gBX"
      },
      "execution_count": 12,
      "outputs": []
    },
    {
      "cell_type": "code",
      "source": [
        "# @title MAIN\n",
        "\n",
        "# All stock tickers\n",
        "tickers = {\n",
        "    \"A\": \"Agilent Technologies\", \"AAPL\": \"Apple\", \"ABBV\": \"AbbVie\", \"ABT\": \"Abbott Laboratories\",\n",
        "    \"ADBE\": \"Adobe\", \"ADP\": \"Automatic Data Processing\", \"ADM\": \"Archer Daniels Midland\",\n",
        "    \"AEP\": \"American Electric Power\", \"AFL\": \"Aflac\", \"AIG\": \"American International Group\",\n",
        "    \"ALL\": \"Allstate\", \"AMGN\": \"Amgen\", \"AMT\": \"American Tower\", \"AMZN\": \"Amazon\",\n",
        "    \"AXP\": \"American Express\", \"BA\": \"Boeing\", \"BAX\": \"Baxter International\", \"BBY\": \"Best Buy\",\n",
        "    \"BDX\": \"Becton Dickinson\", \"BIIB\": \"Biogen\", \"BMY\": \"Bristol-Myers Squibb\",\n",
        "    \"BRK-B\": \"Berkshire Hathaway\", \"BURL\": \"Burlington Stores\", \"C\": \"Citigroup\", \"CB\": \"Chubb\",\n",
        "    \"CI\": \"Cigna\", \"CL\": \"Colgate-Palmolive\", \"CME\": \"CME Group\", \"CNC\": \"Centene\",\n",
        "    \"COP\": \"ConocoPhillips\", \"COST\": \"Costco\", \"CSCO\": \"Cisco Systems\", \"CSX\": \"CSX Corporation\",\n",
        "    \"CTSH\": \"Cognizant Technology Solutions\", \"CTVA\": \"Corteva\", \"CVS\": \"CVS Health\",\n",
        "    \"CVX\": \"Chevron\", \"D\": \"Dominion Energy\", \"DE\": \"Deere & Co.\", \"DIS\": \"Walt Disney\",\n",
        "    \"DLR\": \"Digital Realty\", \"DOW\": \"Dow\", \"DUK\": \"Duke Energy\", \"EL\": \"Estée Lauder\",\n",
        "    \"EMR\": \"Emerson Electric\", \"ETN\": \"Eaton Corporation\", \"EXC\": \"Exelon\",\n",
        "    \"F\": \"Ford Motor Company\", \"FIS\": \"FIS\", \"GE\": \"General Electric\", \"GILD\": \"Gilead Sciences\",\n",
        "    \"GM\": \"General Motors\", \"GOOGL\": \"Google\", \"GS\": \"Goldman Sachs\", \"HD\": \"Home Depot\",\n",
        "    \"HCA\": \"HCA Healthcare\", \"HUM\": \"Humana\", \"IBM\": \"IBM\", \"INTC\": \"Intel\", \"INTU\": \"Intuit\",\n",
        "    \"IP\": \"International Paper\", \"ISRG\": \"Intuitive Surgical\", \"JNJ\": \"Johnson & Johnson\",\n",
        "    \"KHC\": \"Kraft Heinz\", \"KMB\": \"Kimberly-Clark\", \"KMI\": \"Kinder Morgan\", \"LHX\": \"L3Harris Technologies\",\n",
        "    \"LLY\": \"Eli Lilly\", \"LMT\": \"Lockheed Martin\", \"LRCX\": \"Lam Research\", \"LULU\": \"Lululemon\",\n",
        "    \"LVS\": \"Las Vegas Sands\", \"MA\": \"Mastercard\", \"MCD\": \"McDonald's\", \"MCK\": \"McKesson\",\n",
        "    \"MDT\": \"Medtronic\", \"META\": \"Meta\", \"MMM\": \"3M\", \"MO\": \"Altria Group\", \"MRK\": \"Merck\",\n",
        "    \"MRNA\": \"Moderna\", \"MS\": \"Morgan Stanley\", \"MSFT\": \"Microsoft\", \"NFLX\": \"Netflix\",\n",
        "    \"NKE\": \"Nike\", \"NSC\": \"Norfolk Southern\", \"NVDA\": \"NVIDIA\", \"O\": \"Realty Income\",\n",
        "    \"PEP\": \"PepsiCo\", \"PFE\": \"Pfizer\", \"PG\": \"Procter & Gamble\", \"PLD\": \"Prologis\",\n",
        "    \"PGR\": \"Progressive\", \"PSX\": \"Phillips 66\", \"PYPL\": \"PayPal\", \"RMD\": \"ResMed\",\n",
        "    \"RSG\": \"Republic Services\", \"RTX\": \"Raytheon Technologies\", \"SBUX\": \"Starbucks\",\n",
        "    \"SCHW\": \"Charles Schwab\", \"SLB\": \"Schlumberger\", \"SPGI\": \"S&P Global\", \"STT\": \"State Street\",\n",
        "    \"STZ\": \"Constellation Brands\", \"SYY\": \"Sysco\", \"SYK\": \"Stryker\", \"T\": \"AT&T\", \"TGT\": \"Target\",\n",
        "    \"TMO\": \"Thermo Fisher Scientific\", \"TRV\": \"Travelers\", \"TSLA\": \"Tesla\",\n",
        "    \"TSM\": \"Taiwan Semiconductor\", \"UNH\": \"UnitedHealth Group\", \"UNP\": \"Union Pacific\",\n",
        "    \"USB\": \"U.S. Bancorp\", \"V\": \"Visa\", \"VLO\": \"Valero\", \"VTR\": \"Ventas\", \"VZ\": \"Verizon\",\n",
        "    \"WBA\": \"Walgreens Boots Alliance\", \"WFC\": \"Wells Fargo\", \"WMB\": \"Williams Companies\",\n",
        "    \"WMT\": \"Walmart\", \"XEL\": \"Xcel Energy\", \"XOM\": \"ExxonMobil\", \"ZBH\": \"Zimmer Biomet\",\n",
        "    \"ZTS\": \"Zoetis\"\n",
        "}\n",
        "\n",
        "# file_list = ['/content/Apple_Financial_2021.xlsx', '/content/Moderna_Financial_2025.xlsx', '/content/CVS_Health_Financial_2024.xlsx', '/content/Tesla_Financial_2023.xlsx']\n",
        "tickers = {\"AAPL\": \"Apple\", \"MRNA\": \"Moderna\", \"CVS\": \"CVS Health\", \"TSLA\": \"Tesla\"}\n",
        "\n",
        "# Execute data processing and vectorization\n",
        "execute_process(tickers)\n",
        "\n",
        "# Embedding and Cohere Configuration\n",
        "retriever = vectorstore.as_retriever(search_kwargs={\"k\": 25})\n",
        "llm = ChatCohere(cohere_api_key=cohere_api_key)\n",
        "qa_chain = RetrievalQA.from_chain_type(llm=llm, retriever=retriever, return_source_documents=False)\n"
      ],
      "metadata": {
        "colab": {
          "base_uri": "https://localhost:8080/"
        },
        "collapsed": true,
        "cellView": "form",
        "id": "GKORoGSdWu82",
        "outputId": "f0726371-d0a4-4107-a58a-fcd63b23e208"
      },
      "execution_count": 13,
      "outputs": [
        {
          "output_type": "stream",
          "name": "stdout",
          "text": [
            "Years for which data is downloaded\n",
            "Apple: [2022, 2021, 2020, 2023, 2019, 2018, 2017, 2015, 2014, 2013, 2016, 2024]\n",
            "Years for which data is downloaded\n",
            "Moderna: [2018, 2017, 2016, 2019, 2024, 2023, 2022, 2021, 2020]\n",
            "Years for which data is downloaded\n",
            "CVS Health: [2020, 2019, 2018, 2022, 2021, 2024, 2023, 2017, 2016]\n",
            "Years for which data is downloaded\n",
            "Tesla: [2021, 2020, 2019, 2018, 2017, 2015, 2014, 2013, 2024, 2023, 2022, 2016]\n"
          ]
        }
      ]
    },
    {
      "cell_type": "code",
      "source": [
        "# @title Query 1 to Cohere\n",
        "\n",
        "query = \"Compare Moderna and Tesla's net income\"\n",
        "response = qa_chain.invoke({\"query\": query})\n",
        "\n",
        "print(\"\\nAnswer:\")\n",
        "print(response['result'])"
      ],
      "metadata": {
        "id": "6wz-a-iGsZ2D",
        "collapsed": true,
        "colab": {
          "base_uri": "https://localhost:8080/"
        },
        "cellView": "form",
        "outputId": "7309f036-48e9-4fff-c05b-54ea9f64d149"
      },
      "execution_count": 14,
      "outputs": [
        {
          "output_type": "stream",
          "name": "stdout",
          "text": [
            "\n",
            "Answer:\n",
            "Based on the provided data, here’s a comparison of Moderna and Tesla's net income (or net loss) for the available years:\n",
            "\n",
            "### **Moderna Net (Loss) Income in Operating Expenses Category:**\n",
            "- **2020**: USD -747.0 million (loss)  \n",
            "- **2021**: USD 12.202 billion (profit)  \n",
            "- **2022**: USD 8.362 billion (profit)  \n",
            "- **2023**: USD -4.714 billion (loss)  \n",
            "- **2024**: USD -3.561 billion (loss)  \n",
            "\n",
            "### **Tesla Net Income Attributable to Common Stockholders in Operating Expenses Category:**\n",
            "- **2021**: USD 5.519 billion (profit)  \n",
            "- **2022**: USD 12.556 billion (profit)  \n",
            "- **2023**: USD 14.997 billion (profit)  \n",
            "- **2024**: USD 7.091 billion (profit)  \n",
            "\n",
            "### **Key Observations:**\n",
            "1. **Profitability Trends:**  \n",
            "   - Moderna experienced significant profits in 2021 and 2022, likely due to its COVID-19 vaccine sales, but shifted to losses in 2023 and 2024.  \n",
            "   - Tesla has consistently reported profits from 2021 to 2024, with a peak in 2023 and a slight decline in 2024.  \n",
            "\n",
            "2. **Scale of Profits/Losses:**  \n",
            "   - Moderna's profits in 2021 and 2022 were substantial but were followed by significant losses in subsequent years.  \n",
            "   - Tesla's profits have been consistently higher and more stable compared to Moderna's fluctuating performance.  \n",
            "\n",
            "3. **Industry Context:**  \n",
            "   - Moderna's performance is heavily tied to its vaccine and therapeutic product sales, which can be volatile based on public health needs.  \n",
            "   - Tesla's performance is driven by its automotive and energy business, which has shown steady growth despite challenges in the EV market.  \n",
            "\n",
            "In summary, Tesla has demonstrated consistent profitability, while Moderna's financial performance has been more volatile, with strong profits during the pandemic followed by losses in recent years.\n"
          ]
        }
      ]
    },
    {
      "cell_type": "code",
      "source": [
        "# @title Query 2 to Cohere\n",
        "\n",
        "query = \"What was CVS's net income in 2022?\"\n",
        "response = qa_chain.invoke({\"query\": query})\n",
        "\n",
        "print(\"\\nAnswer:\")\n",
        "print(response['result'])"
      ],
      "metadata": {
        "id": "O6OgcN9zyB1u",
        "collapsed": true,
        "colab": {
          "base_uri": "https://localhost:8080/"
        },
        "cellView": "form",
        "outputId": "1eb60ce4-63be-401b-f523-755cc2bf89b2"
      },
      "execution_count": 15,
      "outputs": [
        {
          "output_type": "stream",
          "name": "stdout",
          "text": [
            "\n",
            "Answer:\n",
            "According to the provided information, CVS Health's net income in 2022 was USD 4.165 billion.\n"
          ]
        }
      ]
    },
    {
      "cell_type": "code",
      "source": [
        "# @title Query 3 to Cohere\n",
        "\n",
        "query = \"What is income tax provision?\"\n",
        "response = qa_chain.invoke({\"query\": query})\n",
        "\n",
        "print(\"\\nAnswer:\")\n",
        "print(response['result'])"
      ],
      "metadata": {
        "colab": {
          "base_uri": "https://localhost:8080/"
        },
        "collapsed": true,
        "cellView": "form",
        "id": "DGqZerWse-W2",
        "outputId": "60c89846-9743-413b-f219-6867414cc620"
      },
      "execution_count": 16,
      "outputs": [
        {
          "output_type": "stream",
          "name": "stdout",
          "text": [
            "\n",
            "Answer:\n",
            "Income tax provision is an estimate of the amount a company expects to pay in taxes for the current year, based on its taxable income. It is recorded on the company's financial statements, typically in the income statement, as an expense. The provision reflects the company's best estimate of its tax liability for the period, considering applicable tax laws, rates, and any adjustments for deferred taxes.\n",
            "\n",
            "Here’s a breakdown of key aspects of income tax provision:\n",
            "\n",
            "1. **Current Tax Expense**: This is the tax owed on the company's taxable income for the current year, calculated based on the applicable tax rates and regulations.\n",
            "\n",
            "2. **Deferred Tax**: This accounts for temporary differences between the company's accounting income and taxable income. Deferred tax assets and liabilities arise from these differences and are adjusted over time as they reverse.\n",
            "\n",
            "3. **Estimation**: Since tax laws can be complex, the provision is an estimate and may be adjusted in future periods if actual tax liabilities differ from the initial estimate.\n",
            "\n",
            "4. **Financial Reporting**: The income tax provision is crucial for financial reporting as it ensures that the company's financial statements accurately reflect its tax obligations.\n",
            "\n",
            "For example, in the context of Apple, the figures provided represent the company's estimated tax expenses for each year, reflecting its global operations and tax strategies. Similarly, for Moderna and Tesla, the figures show their respective tax provisions or benefits, which can vary significantly depending on their profitability, tax credits, and other factors.\n",
            "\n",
            "If you have a specific question about any of the figures or need further clarification, feel free to ask!\n"
          ]
        }
      ]
    },
    {
      "cell_type": "code",
      "source": [
        "# @title Query 4 to Cohere\n",
        "\n",
        "query = \"Compare the operating expenses across all companies\"\n",
        "response = qa_chain.invoke({\"query\": query})\n",
        "\n",
        "print(\"\\nAnswer:\")\n",
        "print(response['result'])"
      ],
      "metadata": {
        "colab": {
          "base_uri": "https://localhost:8080/"
        },
        "cellView": "form",
        "collapsed": true,
        "id": "BbyE5CbqtxhD",
        "outputId": "a9423c03-3418-4d5d-90cd-d3ceb549df54"
      },
      "execution_count": 17,
      "outputs": [
        {
          "output_type": "stream",
          "name": "stdout",
          "text": [
            "\n",
            "Answer:\n",
            "Here’s a comparison of the **total operating expenses** across **Apple**, **Tesla**, and **Moderna** for the available years:\n",
            "\n",
            "### **Apple**\n",
            "| Year  | Total Operating Expenses (USD Billion) |\n",
            "|-------|-----------------------------------------|\n",
            "| 2013  | 15.305                                  |\n",
            "| 2014  | 18.034                                  |\n",
            "| 2015  | 22.396                                  |\n",
            "| 2016  | 24.239                                  |\n",
            "| 2017  | 26.842                                  |\n",
            "| 2018  | 30.941                                  |\n",
            "| 2019  | 34.462                                  |\n",
            "| 2020  | 38.668                                  |\n",
            "| 2021  | 43.887                                  |\n",
            "| 2022  | 51.345                                  |\n",
            "| 2023  | 54.847                                  |\n",
            "| 2024  | 57.467                                  |\n",
            "\n",
            "### **Tesla**\n",
            "| Year  | Total Operating Expenses (USD Billion) |\n",
            "|-------|-----------------------------------------|\n",
            "| 2013  | 0.518                                   |\n",
            "| 2016  | 2.267                                   |\n",
            "| 2017  | 3.855                                   |\n",
            "| 2018  | 4.430                                   |\n",
            "| 2019  | 4.138                                   |\n",
            "| 2020  | 4.636                                   |\n",
            "| 2021  | 7.083                                   |\n",
            "\n",
            "### **Moderna**\n",
            "| Year  | Total Operating Expenses (USD Billion) |\n",
            "|-------|-----------------------------------------|\n",
            "| 2016  | 0.332                                   |\n",
            "| 2017  | 0.475                                   |\n",
            "| 2018  | 0.548                                   |\n",
            "| 2020  | 1.566                                   |\n",
            "| 2022  | 9.843                                   |\n",
            "\n",
            "### **Key Observations**:\n",
            "1. **Apple** has the highest operating expenses across all years, with a consistent upward trend, reaching **USD 57.467 billion in 2024**.\n",
            "2. **Tesla**’s operating expenses have grown significantly, especially from 2020 to 2021, but remain far below Apple’s levels.\n",
            "3. **Moderna**’s operating expenses were relatively low until 2022, when they surged to **USD 9.843 billion**, likely due to COVID-19 vaccine-related activities.\n",
            "4. Apple’s operating expenses are an order of magnitude larger than Tesla’s and Moderna’s, reflecting its scale and market position.\n",
            "\n",
            "Let me know if you'd like further analysis!\n"
          ]
        }
      ]
    },
    {
      "cell_type": "code",
      "source": [
        "# @title Query 5 to Cohere\n",
        "query = \"Compare moderna's profitability across years\"\n",
        "response = qa_chain.invoke({\"query\": query})\n",
        "\n",
        "print(\"\\nAnswer:\")\n",
        "print(response['result'])"
      ],
      "metadata": {
        "colab": {
          "base_uri": "https://localhost:8080/"
        },
        "collapsed": true,
        "id": "1vYRi8zhuhm-",
        "outputId": "8fefbc1c-2494-4b8c-b199-55992fcf55dd",
        "cellView": "form"
      },
      "execution_count": 18,
      "outputs": [
        {
          "output_type": "stream",
          "name": "stdout",
          "text": [
            "\n",
            "Answer:\n",
            "To compare Moderna's profitability across the years provided, we'll focus on key metrics such as **Net Income (Loss)**, **(Loss) Income from Operations**, and **(Loss) Income Before Income Taxes**. Here’s a breakdown of Moderna's profitability for the years 2016 to 2024:\n",
            "\n",
            "### **Net Income (Loss)**\n",
            "- **2016**: USD -216.211 million (Net Loss)  \n",
            "- **2017**: USD -255.916 million (Net Loss)  \n",
            "- **2018**: USD -384.734 million (Net Loss)  \n",
            "- **2020**: USD -747.0 million (Net Loss)  \n",
            "- **2021**: USD 12.202 billion (Net Income)  \n",
            "- **2022**: USD 8.362 billion (Net Income)  \n",
            "- **2023**: USD -4.714 billion (Net Loss)  \n",
            "- **2024**: USD -3.561 billion (Net Loss)  \n",
            "\n",
            "### **(Loss) Income from Operations**\n",
            "- **2017**: USD -269.356 million (Loss)  \n",
            "- **2018**: USD -413.266 million (Loss)  \n",
            "- **2020**: USD -763.0 million (Loss)  \n",
            "- **2021**: USD 13.296 billion (Income)  \n",
            "- **2022**: USD 9.42 billion (Income)  \n",
            "- **2023**: USD -4.239 billion (Loss)  \n",
            "- **2024**: USD -3.945 billion (Loss)  \n",
            "\n",
            "### **(Loss) Income Before Income Taxes**\n",
            "- **2021**: USD 13.285 billion (Income)  \n",
            "- **2022**: USD 9.575 billion (Income)  \n",
            "- **2023**: USD -3.942 billion (Loss)  \n",
            "- **2024**: USD -3.607 billion (Loss)  \n",
            "\n",
            "### **Key Observations:**\n",
            "1. **Significant Profitability in 2021 and 2022**:  \n",
            "   - Moderna achieved its highest profitability in **2021** and **2022**, driven by the success of its COVID-19 vaccine.  \n",
            "   - **2021**: Net Income of USD 12.202 billion, Income from Operations of USD 13.296 billion.  \n",
            "   - **2022**: Net Income of USD 8.362 billion, Income from Operations of USD 9.42 billion.  \n",
            "\n",
            "2. **Losses Before 2021**:  \n",
            "   - Prior to 2021, Moderna consistently reported losses, with the largest loss in **2020** (Net Loss of USD 747.0 million).  \n",
            "\n",
            "3. **Return to Losses in 2023 and 2024**:  \n",
            "   - Moderna returned to significant losses in **2023** and **2024**, likely due to declining COVID-19 vaccine demand and increased operating expenses.  \n",
            "   - **2023**: Net Loss of USD 4.714 billion, Loss from Operations of USD 4.239 billion.  \n",
            "   - **2024**: Net Loss of USD 3.561 billion, Loss from Operations of USD 3.945 billion.  \n",
            "\n",
            "4. **Earnings Per Share (EPS)**:  \n",
            "   - **2021**: Basic EPS of USD 30.31.  \n",
            "   - **2022**: Basic EPS of USD 21.26.  \n",
            "\n",
            "### **Conclusion**:\n",
            "Moderna's profitability was exceptionally strong in **2021 and 2022**, primarily due to the global demand for its COVID-19 vaccine. However, the company returned to losses in **2023 and 2024**, reflecting the challenges of sustaining post-pandemic revenue levels and managing operational costs. The pre-2021 years were marked by consistent losses, typical of a biotechnology company in its early stages.\n"
          ]
        }
      ]
    }
  ]
}
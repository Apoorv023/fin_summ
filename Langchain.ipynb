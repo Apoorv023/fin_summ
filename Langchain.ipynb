{
  "nbformat": 4,
  "nbformat_minor": 0,
  "metadata": {
    "colab": {
      "provenance": [],
      "authorship_tag": "ABX9TyPTAQ+l1lc56bb2UkpPP6N4"
    },
    "kernelspec": {
      "name": "python3",
      "display_name": "Python 3"
    },
    "language_info": {
      "name": "python"
    }
  },
  "cells": [
    {
      "cell_type": "code",
      "source": [
        "!pip install -q faiss-cpu langchain langchain-community langchain-experimental langchain-cohere"
      ],
      "metadata": {
        "colab": {
          "base_uri": "https://localhost:8080/"
        },
        "id": "POVniYqW-YTM",
        "outputId": "775c4afc-da9c-421e-97f7-d19e9d5a4a53"
      },
      "execution_count": 1,
      "outputs": [
        {
          "output_type": "stream",
          "name": "stdout",
          "text": [
            "\u001b[2K   \u001b[90m━━━━━━━━━━━━━━━━━━━━━━━━━━━━━━━━━━━━━━━━\u001b[0m \u001b[32m31.3/31.3 MB\u001b[0m \u001b[31m31.1 MB/s\u001b[0m eta \u001b[36m0:00:00\u001b[0m\n",
            "\u001b[2K   \u001b[90m━━━━━━━━━━━━━━━━━━━━━━━━━━━━━━━━━━━━━━━━\u001b[0m \u001b[32m2.5/2.5 MB\u001b[0m \u001b[31m32.8 MB/s\u001b[0m eta \u001b[36m0:00:00\u001b[0m\n",
            "\u001b[2K   \u001b[90m━━━━━━━━━━━━━━━━━━━━━━━━━━━━━━━━━━━━━━━━\u001b[0m \u001b[32m209.2/209.2 kB\u001b[0m \u001b[31m12.3 MB/s\u001b[0m eta \u001b[36m0:00:00\u001b[0m\n",
            "\u001b[2K   \u001b[90m━━━━━━━━━━━━━━━━━━━━━━━━━━━━━━━━━━━━━━━━\u001b[0m \u001b[32m42.3/42.3 kB\u001b[0m \u001b[31m2.5 MB/s\u001b[0m eta \u001b[36m0:00:00\u001b[0m\n",
            "\u001b[2K   \u001b[90m━━━━━━━━━━━━━━━━━━━━━━━━━━━━━━━━━━━━━━━━\u001b[0m \u001b[32m291.9/291.9 kB\u001b[0m \u001b[31m14.3 MB/s\u001b[0m eta \u001b[36m0:00:00\u001b[0m\n",
            "\u001b[2K   \u001b[90m━━━━━━━━━━━━━━━━━━━━━━━━━━━━━━━━━━━━━━━━\u001b[0m \u001b[32m45.2/45.2 kB\u001b[0m \u001b[31m3.3 MB/s\u001b[0m eta \u001b[36m0:00:00\u001b[0m\n",
            "\u001b[2K   \u001b[90m━━━━━━━━━━━━━━━━━━━━━━━━━━━━━━━━━━━━━━━━\u001b[0m \u001b[32m3.3/3.3 MB\u001b[0m \u001b[31m40.6 MB/s\u001b[0m eta \u001b[36m0:00:00\u001b[0m\n",
            "\u001b[2K   \u001b[90m━━━━━━━━━━━━━━━━━━━━━━━━━━━━━━━━━━━━━━━━\u001b[0m \u001b[32m50.9/50.9 kB\u001b[0m \u001b[31m1.0 MB/s\u001b[0m eta \u001b[36m0:00:00\u001b[0m\n",
            "\u001b[?25h"
          ]
        }
      ]
    },
    {
      "cell_type": "code",
      "source": [
        "# @title Imports\n",
        "\n",
        "import os\n",
        "import re\n",
        "import requests\n",
        "import numpy as np\n",
        "import pandas as pd\n",
        "from google.colab import userdata\n",
        "from IPython.display import display\n",
        "\n",
        "# LangChain & LangChain Community\n",
        "import faiss\n",
        "from langchain.prompts import PromptTemplate\n",
        "from langchain.docstore.document import Document\n",
        "from langchain.vectorstores.faiss import FAISS\n",
        "from langchain.chains import LLMChain, RetrievalQA, create_retrieval_chain\n",
        "from langchain.chains.combine_documents import create_stuff_documents_chain\n",
        "from langchain_experimental.agents import create_pandas_dataframe_agent"
      ],
      "metadata": {
        "cellView": "form",
        "id": "qJmLmOZdIQX2"
      },
      "execution_count": null,
      "outputs": []
    },
    {
      "cell_type": "code",
      "source": [
        "# @title Download excel files\n",
        "\n",
        "headers = {\n",
        "    'User-Agent': 'microsoft bill.gates@microsoft.com',\n",
        "    'Accept': 'application/vnd.openxmlformats-officedocument.spreadsheetml.sheet'\n",
        "}\n",
        "\n",
        "response = requests.get(\"https://www.sec.gov/Archives/edgar/data/0000320193/000032019321000105/Financial_Report.xlsx\", headers=headers)\n",
        "with open(\"/content/Apple_Financial_2021.xlsx\", 'wb') as f:\n",
        "    f.write(response.content)\n",
        "\n",
        "response = requests.get(\"https://www.sec.gov/Archives/edgar/data/0001682852/000168285225000022/Financial_Report.xlsx\", headers=headers)\n",
        "with open(\"/content/Moderna_Financial_2025.xlsx\", 'wb') as f:\n",
        "    f.write(response.content)\n",
        "\n",
        "response = requests.get(\"https://www.sec.gov/Archives/edgar/data/0000064803/000006480324000007/Financial_Report.xlsx\", headers=headers)\n",
        "with open(\"/content/CVS_Health_Financial_2024.xlsx\", 'wb') as f:\n",
        "    f.write(response.content)\n",
        "\n",
        "response = requests.get(\"https://www.sec.gov/Archives/edgar/data/0001318605/000095017023001409/Financial_Report.xlsx\", headers=headers)\n",
        "with open(\"/content/Tesla_Financial_2023.xlsx\", 'wb') as f:\n",
        "    f.write(response.content)"
      ],
      "metadata": {
        "cellView": "form",
        "id": "JG91F3OwpWoU"
      },
      "execution_count": null,
      "outputs": []
    },
    {
      "cell_type": "code",
      "source": [
        "# @title excel_to_df(excel_file_path: str) - Convert excel data to dataframe\n",
        "def excel_to_df(excel_file_path: str):\n",
        "    sheet_name_desc1 = 'consolidated statements of oper'\n",
        "    sheet_name_desc2 = 'consolidated statements of incom'\n",
        "    global files_parsed, files_not_parsed\n",
        "    try:\n",
        "        matched_sheet = ''\n",
        "        excel_content = pd.ExcelFile(excel_file_path)\n",
        "        for sheet_name in excel_content.sheet_names:\n",
        "            if sheet_name_desc1 in sheet_name.lower() or sheet_name_desc2 in sheet_name.lower():\n",
        "              matched_sheet = sheet_name\n",
        "              break\n",
        "        df = pd.read_excel(excel_file_path, sheet_name = matched_sheet, engine = 'openpyxl')\n",
        "        files_parsed.append(excel_file_path)\n",
        "    except Exception as e:\n",
        "        # If df is not found then return 'Required sheet not found!'\n",
        "        df = f'Could not read the excel file {excel_file_path}!'\n",
        "        files_not_parsed.append(excel_file_path)\n",
        "\n",
        "    return df"
      ],
      "metadata": {
        "cellView": "form",
        "id": "o7wZah4xITj2"
      },
      "execution_count": null,
      "outputs": []
    },
    {
      "cell_type": "code",
      "source": [
        "# @title def process_df_values(df: pd.dataframe, share_multiplier: int, usd_multiplier: int) -> Correct the values in dataframe according to share and usd multipliers\n",
        "\n",
        "def process_df_values(df: pd.DataFrame, share_multiplier: int, usd_multiplier: int) -> pd.DataFrame:\n",
        "    pre_string = ''\n",
        "    nan_index, text_index = [], []\n",
        "\n",
        "    common_averages = [\"in share\", \"average share\", \"average common share\"]\n",
        "    usd_terms = [\"in usd\", \"in dollars\", \"income per share\"]\n",
        "\n",
        "    for index, row in df.iterrows():\n",
        "        try:\n",
        "            row_desc = row.loc['Description'].lower() # Get the row description\n",
        "            if row_desc[-1] == \":\":\n",
        "                row_desc = row_desc[:-1]\n",
        "        except:\n",
        "            continue\n",
        "\n",
        "        if row.isnull().all():\n",
        "          pre_string = ''\n",
        "          nan_index.append(index)\n",
        "\n",
        "        elif row.iloc[2:].isnull().all():\n",
        "          if index - 1 in nan_index:\n",
        "            pre_string = pre_string + \" | \" + row_desc #re.sub(r'[^a-zA-Z]+$[]', '', row_desc)\n",
        "          else:\n",
        "            pre_string = row_desc #re.sub(r'[^a-zA-Z]+$[]', '', row_desc)\n",
        "          nan_index.append(index)\n",
        "\n",
        "        else:\n",
        "            # If value can't be converted to float, then skip that row\n",
        "            try:\n",
        "                float(row.iloc[2])\n",
        "\n",
        "                if pre_string:\n",
        "                    df.iloc[index, 0] = pre_string\n",
        "\n",
        "                for col in df.columns[2:]:\n",
        "                    val = row[col]\n",
        "                    if any(common_average in row_desc for common_average in common_averages) or any(common_average in pre_string for common_average in common_averages):\n",
        "                        val = float(val) * share_multiplier\n",
        "                        # val = str(val) + \" shares\"\n",
        "                    else:\n",
        "                        if all(usd_term not in row_desc and usd_term not in pre_string for usd_term in usd_terms):\n",
        "                            val = float(val) * usd_multiplier\n",
        "                            # if val >= 1000000000:\n",
        "                            #     val = str(val/1000000000) + \" billion\"\n",
        "                            # elif val >= 1000000:\n",
        "                            #     val = str(val/1000000) + \" million\"\n",
        "\n",
        "                        # val = \"USD \" + str(val)\n",
        "\n",
        "                    df.at[index, col] = val\n",
        "            except:\n",
        "                text_index.append(index)\n",
        "                continue\n",
        "\n",
        "    if text_index:\n",
        "      df = df.drop(text_index)\n",
        "\n",
        "    df = df.dropna(subset=df.columns[1:])\n",
        "\n",
        "    return df.reset_index(drop = True)"
      ],
      "metadata": {
        "cellView": "form",
        "id": "lp0uBC6ubYQA"
      },
      "execution_count": null,
      "outputs": []
    },
    {
      "cell_type": "code",
      "source": [
        "# @title def process_dataframe(df: pd.dataframe) -> Set column headings and find share and usd multipliers\n",
        "\n",
        "def process_dataframe(df: pd.DataFrame) -> pd.DataFrame:\n",
        "    multiplier_identifier = df.columns[0].lower()\n",
        "\n",
        "    share_multiplier = 1\n",
        "    if 'shares in billion' in multiplier_identifier:\n",
        "        share_multiplier = 1000000000\n",
        "    elif 'shares in million' in multiplier_identifier:\n",
        "        share_multiplier = 1000000\n",
        "    elif 'shares in thousand' in multiplier_identifier:\n",
        "        share_multiplier = 1000\n",
        "\n",
        "    usd_multiplier = 1\n",
        "    if '$ in billion' in multiplier_identifier:\n",
        "        usd_multiplier = 1000000000\n",
        "    elif '$ in million' in multiplier_identifier:\n",
        "        usd_multiplier = 1000000\n",
        "    elif '$ in thousand' in multiplier_identifier:\n",
        "        usd_multiplier = 1000\n",
        "\n",
        "    df.columns = [f'new_column_{i}' if col is None else col for i, col in enumerate(df.columns)]\n",
        "\n",
        "    df = df.map(lambda x: np.nan if (x == '' or x is None or (isinstance(x, str) and x.strip() == \"\")) else x)\n",
        "\n",
        "    for column in df.columns:\n",
        "        if df[column].nunique() < 5:\n",
        "            df = df.drop(columns=[column])\n",
        "\n",
        "    df = df.rename(columns = {df.columns[0]: \"Description\",\n",
        "                              df.columns[1]: int(df.iloc[0,1][-4:]),\n",
        "                              df.columns[2]: int(df.iloc[0,2][-4:]),\n",
        "                              df.columns[3]: int(df.iloc[0,3][-4:])})\n",
        "\n",
        "    df = df[1:]\n",
        "    df.insert(0, 'Category', '')\n",
        "    df = df.reset_index(drop = True)      # To make sure indices are in sync\n",
        "\n",
        "    return process_df_values(df = df, share_multiplier = share_multiplier, usd_multiplier = usd_multiplier)\n"
      ],
      "metadata": {
        "cellView": "form",
        "id": "Xk4M0AjxIVru"
      },
      "execution_count": null,
      "outputs": []
    },
    {
      "cell_type": "code",
      "source": [
        "# @title def df_to_document(df:  pd.DataFrame, company_name: str) -> Convert dataframe to langchain Documents\n",
        "def df_to_document(df:  pd.DataFrame, company_name: str):\n",
        "    documents = []\n",
        "\n",
        "    for index, row in df.iterrows():\n",
        "      if row.iloc[0]:\n",
        "        # row_desc = f\"{row.iloc[1]} in {row.iloc[0]} category\"\n",
        "        row_desc = f\"For {company_name} {row.iloc[1]} in {row.iloc[0]} category for year\"\n",
        "      else:\n",
        "        # row_desc = f\"{row.iloc[1]}\"\n",
        "        row_desc = f\"For {company_name} {row.iloc[1]} for year\"\n",
        "\n",
        "      for column in df.columns[2:]:\n",
        "        metadata = {\"company\": company_name, \"year\": column}\n",
        "        documents.append(Document(page_content = f\"{row_desc} {column} is {row[column]}.\", metadata = metadata))\n",
        "\n",
        "    return documents"
      ],
      "metadata": {
        "cellView": "form",
        "id": "NYudzG27f-AN"
      },
      "execution_count": null,
      "outputs": []
    },
    {
      "cell_type": "code",
      "source": [
        "# @title MAIN\n",
        "\n",
        "file_list = ['/content/Apple_Financial_2021.xlsx', '/content/Moderna_Financial_2025.xlsx', '/content/CVS_Health_Financial_2024.xlsx', '/content/Tesla_Financial_2023.xlsx']\n",
        "files_parsed, files_not_parsed = [], []\n",
        "\n",
        "docs = []\n",
        "\n",
        "# Convert excel to dataframe\n",
        "for excel_file_path in file_list:\n",
        "\n",
        "    company_name = (excel_file_path.split('/')[-1]).split('_')[0]\n",
        "    df = excel_to_df(excel_file_path = excel_file_path )\n",
        "    if not isinstance(df, pd.DataFrame):\n",
        "        files_not_parsed.append(excel_file_path)\n",
        "        continue\n",
        "\n",
        "    files_parsed.append(excel_file_path)\n",
        "    df = process_dataframe(df = df)\n",
        "    # display(df)\n",
        "    # print(\"\\n\\n\")\n",
        "    docs.extend(df_to_document(df = df, company_name = company_name))\n"
      ],
      "metadata": {
        "collapsed": true,
        "cellView": "form",
        "id": "Q_IYL2EGIXtm"
      },
      "execution_count": null,
      "outputs": []
    },
    {
      "cell_type": "code",
      "source": [
        "# @title This cell restarts this notebook. Re-run all cells after restart\n",
        "!pip uninstall -qy langchain-cohere\n",
        "!pip install -q \"langchain-cohere>=0.1.0,<0.2.0\"\n",
        "\n",
        "# Cohere integrations\n",
        "from langchain_cohere import ChatCohere\n",
        "from langchain_cohere import CohereEmbeddings\n",
        "from langchain_community.llms import Cohere as LangChainCohere"
      ],
      "metadata": {
        "cellView": "form",
        "id": "tdkillHrAbjZ"
      },
      "execution_count": null,
      "outputs": []
    },
    {
      "cell_type": "code",
      "source": [
        "# @title Embedding and Cohere Configuration\n",
        "\n",
        "cohere_api_key = userdata.get('COHERE_API_KEY')\n",
        "embeddings = CohereEmbeddings(cohere_api_key=cohere_api_key, user_agent=\"langchain\")\n",
        "\n",
        "vectorstore = FAISS.from_documents(docs, embeddings)\n",
        "retriever = vectorstore.as_retriever(search_kwargs={\"k\": 15})\n",
        "\n",
        "llm = ChatCohere(cohere_api_key=cohere_api_key)\n",
        "\n",
        "qa_chain = RetrievalQA.from_chain_type(llm=llm, retriever=retriever, return_source_documents=True)"
      ],
      "metadata": {
        "id": "zFaLT2qJsTj0"
      },
      "execution_count": null,
      "outputs": []
    },
    {
      "cell_type": "code",
      "source": [
        "# @title Query 1 to Cohere\n",
        "\n",
        "# This query works good\n",
        "query = \"Compare Moderna and Tesla's net income\"\n",
        "response = qa_chain({\"query\": query})\n",
        "\n",
        "print(\"\\nAnswer:\")\n",
        "print(response['result'])"
      ],
      "metadata": {
        "id": "6wz-a-iGsZ2D",
        "collapsed": true,
        "cellView": "form"
      },
      "execution_count": null,
      "outputs": []
    },
    {
      "cell_type": "code",
      "source": [
        "# @title Query 2 to Cohere\n",
        "\n",
        "# This query does not work good\n",
        "query = \"What was CVS's net income in 2022?\"\n",
        "response = qa_chain({\"query\": query})\n",
        "\n",
        "print(\"\\nAnswer:\")\n",
        "print(response['result'])"
      ],
      "metadata": {
        "cellView": "form",
        "id": "O6OgcN9zyB1u",
        "collapsed": true
      },
      "execution_count": null,
      "outputs": []
    }
  ]
}